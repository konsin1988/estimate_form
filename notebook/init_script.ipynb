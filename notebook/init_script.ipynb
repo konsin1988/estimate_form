{
 "cells": [
  {
   "cell_type": "code",
   "execution_count": 1,
   "id": "768b7fa7-3763-4a6f-94b2-d44b58791f51",
   "metadata": {},
   "outputs": [],
   "source": [
    "import pandas as pd\n",
    "from sqlalchemy import create_engine, text\n",
    "from datetime import datetime, date"
   ]
  },
  {
   "cell_type": "code",
   "execution_count": 2,
   "id": "fb1d82c9-cd67-45d0-9e99-89371fe8cca7",
   "metadata": {},
   "outputs": [],
   "source": [
    "user = 'admin'\n",
    "password = 1234\n",
    "host = 'localhost'\n",
    "port = 5432\n",
    "db_name = 'skud_va'\n",
    "schema = 'fin'\n",
    "\n",
    "engine = create_engine(f'postgresql+psycopg2://{user}:{password}@{host}:{port}/{db_name}')\n",
    "def read_sql_query(query):\n",
    "    with engine.begin() as con:\n",
    "        res = pd.read_sql_query(query, con)\n",
    "    return res"
   ]
  },
  {
   "cell_type": "code",
   "execution_count": 3,
   "id": "076a7a8b-0bda-4fca-9ee3-79732085e21d",
   "metadata": {},
   "outputs": [],
   "source": [
    "table_columns = {\n",
    "                 #    'revenue_fact': [ 'id::serial', 'date_dt', \n",
    "                 #                      'c_agent', 'contract', \n",
    "                 #                      'doc', 'division', 'frc',\n",
    "                 #                      'nom_g', 'div_frc', 'nom_frc', 'amount'\n",
    "    \n",
    "                 #                    ], \n",
    "                 # 'revenue_plan_2025': ['id::serial', 'company', \n",
    "                 #                           'date_dt', 'frc', 'amount'\n",
    "                 #                     ], \n",
    "                 'revenue_est_2025': ['id', 'company', \n",
    "                                          'date_dt', 'estimate_date', \n",
    "                                          'frc', 'est_amount', \n",
    "                                          'hcl_amount', 'contr_amount']}"
   ]
  },
  {
   "cell_type": "code",
   "execution_count": 4,
   "id": "788448e7-b19d-4f4e-84e2-2c5aab1362a3",
   "metadata": {},
   "outputs": [],
   "source": [
    "def get_id_adding_query_list(table, columns, start_id):\n",
    "    return [\n",
    "f\"create sequence fin.{table}_seq as int start with {start_id}\",\n",
    "f\"alter table fin.{table} rename to {table}_old;\",\n",
    "f'alter table fin.{table}_old add column id serial;',\n",
    "f\"\"\"create table fin.{table} as (\n",
    "\tselect {', '.join(columns)} \n",
    "\tfrom fin.{table}_old\n",
    ");\"\"\",\n",
    "f\"alter table fin.{table} add primary key(id)\",\n",
    "f\"ALTER TABLE fin.{table} ALTER COLUMN id SET DEFAULT nextval('fin.{table}_seq');\"\n",
    "f\"drop table fin.{table}_old;\"\n",
    "]\n",
    "\n",
    "def add_id(table_columns):\n",
    "    for key, value in table_columns.items():\n",
    "        start_id = read_sql_query(f'select count(*) from fin.revenue_est_2025')['count'].values[0] + 1\n",
    "        id_adding_queries = get_id_adding_query_list(key, value, start_id)\n",
    "        for query in id_adding_queries:\n",
    "            with engine.begin() as con:\n",
    "                con.execute(text(query))\n",
    "\n",
    "add_id(table_columns)"
   ]
  },
  {
   "cell_type": "code",
   "execution_count": 19,
   "id": "5c849a11-a009-49eb-b0a0-14909c5f0fa9",
   "metadata": {},
   "outputs": [],
   "source": [
    "def get_dfs(table_columns):\n",
    "    dfs = []\n",
    "    for t_name in list(table_columns.keys()):\n",
    "        query = f'select * from fin.{t_name}'\n",
    "        dfs.append(read_sql_query(query))\n",
    "    return dfs\n",
    "\n",
    "df_fact, df_plan, df_est = get_dfs(table_columns)"
   ]
  },
  {
   "cell_type": "code",
   "execution_count": 5,
   "id": "fcfb0381-4d80-44e8-a151-957ccd2ed294",
   "metadata": {},
   "outputs": [],
   "source": [
    "frc_values = df_est['frc'].value_counts().keys().to_list()"
   ]
  },
  {
   "cell_type": "code",
   "execution_count": 22,
   "id": "6e1249b5-9978-4927-89c3-f32091a36e08",
   "metadata": {},
   "outputs": [
    {
     "data": {
      "text/plain": [
       "['Оценка и технический контроль',\n",
       " 'Центр компетенции и системы управления качеством ГК Ростех',\n",
       " 'Центр сертификации',\n",
       " 'Центр обучения',\n",
       " 'Инновации и инжиниринг',\n",
       " 'Стратегия и инвестиции',\n",
       " 'Управление проектами и цифровизацией',\n",
       " 'Центр качества поставок']"
      ]
     },
     "execution_count": 22,
     "metadata": {},
     "output_type": "execute_result"
    }
   ],
   "source": [
    "frc_values"
   ]
  },
  {
   "cell_type": "code",
   "execution_count": 21,
   "id": "8a2ec1a9-5cf9-46cb-9bd5-ab08e0aea72e",
   "metadata": {},
   "outputs": [
    {
     "data": {
      "text/plain": [
       "[12, 12, 12, 12, 12, 12, 12, 12]"
      ]
     },
     "execution_count": 21,
     "metadata": {},
     "output_type": "execute_result"
    }
   ],
   "source": [
    "def get_est(frc):\n",
    "    cur_month = datetime.now().month\n",
    "    return (\n",
    "        df_est\n",
    "        .assign(date_dt = lambda x: x['date_dt'].astype('datetime64[ns]'),\n",
    "               estimate_date = lambda x: x['estimate_date'].astype('datetime64[ns]'))\n",
    "        .sort_values(['date_dt'])\n",
    "        .query(f'frc == \"{frc}\"')\n",
    "        .query(f'(estimate_date == date_dt) or ((estimate_date.dt.month == {cur_month}))')\n",
    "    )\n",
    "\n",
    "[get_est(frc).shape[0] for frc in frc_values]\n",
    "# get_est(frc_values[6])"
   ]
  },
  {
   "cell_type": "code",
   "execution_count": 9,
   "id": "e9ca2973-ca98-4ebf-8d01-cbd519c85791",
   "metadata": {},
   "outputs": [
    {
     "data": {
      "text/plain": [
       "[1, 2, 3, 4, 5, 6, 7, 8, 9, 10, 11, 12]"
      ]
     },
     "execution_count": 9,
     "metadata": {},
     "output_type": "execute_result"
    }
   ],
   "source": [
    "month_nums = [i for i in range(1, 13)]\n",
    "month_nums"
   ]
  },
  {
   "cell_type": "code",
   "execution_count": 10,
   "id": "7b063915-35f3-4c19-8642-56631b26a8f8",
   "metadata": {},
   "outputs": [
    {
     "data": {
      "text/plain": [
       "['(default, \\'2025-04-01\\', \\'2025-04-01\\', \\'АО \"РТ-Техприемка\"\\', \\'Центр обучения\\')',\n",
       " '(default, \\'2025-03-01\\', \\'2025-03-01\\', \\'АО \"РТ-Техприемка\"\\', \\'Инновации и инжиниринг\\')',\n",
       " '(default, \\'2025-05-01\\', \\'2025-05-01\\', \\'АО \"РТ-Техприемка\"\\', \\'Инновации и инжиниринг\\')',\n",
       " '(default, \\'2025-01-01\\', \\'2025-01-01\\', \\'АО \"РТ-Техприемка\"\\', \\'Стратегия и инвестиции\\')',\n",
       " '(default, \\'2025-02-01\\', \\'2025-02-01\\', \\'АО \"РТ-Техприемка\"\\', \\'Стратегия и инвестиции\\')',\n",
       " '(default, \\'2025-07-01\\', \\'2025-07-01\\', \\'АО \"РТ-Техприемка\"\\', \\'Стратегия и инвестиции\\')',\n",
       " '(default, \\'2025-08-01\\', \\'2025-08-01\\', \\'АО \"РТ-Техприемка\"\\', \\'Стратегия и инвестиции\\')',\n",
       " '(default, \\'2025-09-01\\', \\'2025-08-01\\', \\'АО \"РТ-Техприемка\"\\', \\'Стратегия и инвестиции\\')',\n",
       " '(default, \\'2025-01-01\\', \\'2025-01-01\\', \\'АО \"РТ-Техприемка\"\\', \\'Управление проектами и цифровизацией\\')',\n",
       " '(default, \\'2025-02-01\\', \\'2025-02-01\\', \\'АО \"РТ-Техприемка\"\\', \\'Управление проектами и цифровизацией\\')',\n",
       " '(default, \\'2025-06-01\\', \\'2025-06-01\\', \\'АО \"РТ-Техприемка\"\\', \\'Управление проектами и цифровизацией\\')',\n",
       " '(default, \\'2025-01-01\\', \\'2025-01-01\\', \\'АО \"РТ-Техприемка\"\\', \\'Центр качества поставок\\')',\n",
       " '(default, \\'2025-04-01\\', \\'2025-04-01\\', \\'АО \"РТ-Техприемка\"\\', \\'Центр качества поставок\\')',\n",
       " '(default, \\'2025-07-01\\', \\'2025-07-01\\', \\'АО \"РТ-Техприемка\"\\', \\'Центр качества поставок\\')',\n",
       " '(default, \\'2025-11-01\\', \\'2025-08-01\\', \\'АО \"РТ-Техприемка\"\\', \\'Центр качества поставок\\')']"
      ]
     },
     "execution_count": 10,
     "metadata": {},
     "output_type": "execute_result"
    }
   ],
   "source": [
    "adding_data_query_list = []\n",
    "for frc in frc_values:\n",
    "    company, frc = get_est(frc).iloc[0,:][['company', 'frc']].to_list()\n",
    "    est_months = get_est(frc)['date_dt'].dt.month.to_list() \n",
    "    months_not_in_data = [m for m in month_nums if m not in est_months]\n",
    "    for m in months_not_in_data:\n",
    "        if m <= 8:\n",
    "            date_dt = estimate_date = date(2025, m, 1).strftime(\"%Y-%m-%d\")\n",
    "        else:\n",
    "            date_dt = date(2025, m, 1).strftime(\"%Y-%m-%d\")\n",
    "            estimate_date = '2025-08-01'\n",
    "        adding_data_query_list.append(f\"(default, '{date_dt}', '{estimate_date}', '{company}', '{frc}')\")\n",
    "\n",
    "adding_data_query_list"
   ]
  },
  {
   "cell_type": "code",
   "execution_count": 11,
   "id": "b133f4c6-b222-43ea-aa55-5e364adb48a9",
   "metadata": {},
   "outputs": [
    {
     "data": {
      "text/plain": [
       "'insert into fin.revenue_est_2025 (id, date_dt, estimate_date, company, frc) values (default, \\'2025-04-01\\', \\'2025-04-01\\', \\'АО \"РТ-Техприемка\"\\', \\'Центр обучения\\'), (default, \\'2025-03-01\\', \\'2025-03-01\\', \\'АО \"РТ-Техприемка\"\\', \\'Инновации и инжиниринг\\'), (default, \\'2025-05-01\\', \\'2025-05-01\\', \\'АО \"РТ-Техприемка\"\\', \\'Инновации и инжиниринг\\'), (default, \\'2025-01-01\\', \\'2025-01-01\\', \\'АО \"РТ-Техприемка\"\\', \\'Стратегия и инвестиции\\'), (default, \\'2025-02-01\\', \\'2025-02-01\\', \\'АО \"РТ-Техприемка\"\\', \\'Стратегия и инвестиции\\'), (default, \\'2025-07-01\\', \\'2025-07-01\\', \\'АО \"РТ-Техприемка\"\\', \\'Стратегия и инвестиции\\'), (default, \\'2025-08-01\\', \\'2025-08-01\\', \\'АО \"РТ-Техприемка\"\\', \\'Стратегия и инвестиции\\'), (default, \\'2025-09-01\\', \\'2025-08-01\\', \\'АО \"РТ-Техприемка\"\\', \\'Стратегия и инвестиции\\'), (default, \\'2025-01-01\\', \\'2025-01-01\\', \\'АО \"РТ-Техприемка\"\\', \\'Управление проектами и цифровизацией\\'), (default, \\'2025-02-01\\', \\'2025-02-01\\', \\'АО \"РТ-Техприемка\"\\', \\'Управление проектами и цифровизацией\\'), (default, \\'2025-06-01\\', \\'2025-06-01\\', \\'АО \"РТ-Техприемка\"\\', \\'Управление проектами и цифровизацией\\'), (default, \\'2025-01-01\\', \\'2025-01-01\\', \\'АО \"РТ-Техприемка\"\\', \\'Центр качества поставок\\'), (default, \\'2025-04-01\\', \\'2025-04-01\\', \\'АО \"РТ-Техприемка\"\\', \\'Центр качества поставок\\'), (default, \\'2025-07-01\\', \\'2025-07-01\\', \\'АО \"РТ-Техприемка\"\\', \\'Центр качества поставок\\'), (default, \\'2025-11-01\\', \\'2025-08-01\\', \\'АО \"РТ-Техприемка\"\\', \\'Центр качества поставок\\')'"
      ]
     },
     "execution_count": 11,
     "metadata": {},
     "output_type": "execute_result"
    }
   ],
   "source": [
    "adding_data_query = rf\"\"\"insert into fin.revenue_est_2025 (id, date_dt, estimate_date, company, frc) values {\", \".join(adding_data_query_list)}\"\"\"\n",
    "adding_data_query"
   ]
  },
  {
   "cell_type": "code",
   "execution_count": 12,
   "id": "04effe93-4e56-4991-ae13-66c8a9acda1f",
   "metadata": {},
   "outputs": [],
   "source": [
    "with engine.begin() as con:\n",
    "    con.execute(text(adding_data_query))"
   ]
  },
  {
   "cell_type": "code",
   "execution_count": 16,
   "id": "df72a1c5-312a-43dd-9aff-d833aa4e0dfe",
   "metadata": {},
   "outputs": [
    {
     "data": {
      "text/plain": [
       "[12, 12, 12, 11, 10, 7, 9, 8]"
      ]
     },
     "execution_count": 16,
     "metadata": {},
     "output_type": "execute_result"
    }
   ],
   "source": [
    "[get_est(frc).shape[0] for frc in frc_values]"
   ]
  },
  {
   "cell_type": "markdown",
   "id": "fc6ee58b-8d4e-4895-b3b4-42edcba5e010",
   "metadata": {},
   "source": [
    "# Users"
   ]
  },
  {
   "cell_type": "code",
   "execution_count": 35,
   "id": "77d4c942-e4c7-4815-b3b1-36bfdfadf2db",
   "metadata": {},
   "outputs": [],
   "source": [
    "users_raw = pd.read_excel(\"../../postgres/data/users.xlsx\")"
   ]
  },
  {
   "cell_type": "code",
   "execution_count": 40,
   "id": "fb74b1fc-2be6-4186-84fc-f2f0baeac256",
   "metadata": {},
   "outputs": [],
   "source": [
    "users = pd.concat([(\n",
    "    users_raw                     # Руководители структурных подразделений\n",
    "    .dropna(subset=['e-mail'])\n",
    "    .assign(login = lambda x: x['e-mail'].apply(lambda x: x.split('@')[0]),\n",
    "            email = lambda x: x['e-mail'],\n",
    "           user = lambda x: x['Руководитель структурного подразделения'] + ' ' + x['Unnamed: 3'] + ' ' + x['Unnamed: 4'],\n",
    "            frc = lambda x: x['ЦФО']\n",
    "           )\n",
    "    # .iloc[:, 9:]\n",
    "    [['frc', 'user', 'email', 'login' ]]\n",
    "), (\n",
    "    users_raw                    # Ответственные исполнители\n",
    "    .dropna(subset=['e-mail.1'])\n",
    "    .assign(login = lambda x: x['e-mail.1'].apply(lambda x: x.split('@')[0]),\n",
    "            email = lambda x: x['e-mail.1'],\n",
    "           user = lambda x: x['Ответственный исполнитель '] + ' ' + x['Unnamed: 8'] + ' ' + x['Unnamed: 9'],\n",
    "            frc = lambda x: x['ЦФО']\n",
    "           )\n",
    "    # .iloc[:, 9:]\n",
    "    [['frc', 'user', 'email', 'login' ]]\n",
    ")])\n",
    "users.to_csv(\"users.csv\", index=False)"
   ]
  }
 ],
 "metadata": {
  "kernelspec": {
   "display_name": "Python 3 (ipykernel)",
   "language": "python",
   "name": "python3"
  },
  "language_info": {
   "codemirror_mode": {
    "name": "ipython",
    "version": 3
   },
   "file_extension": ".py",
   "mimetype": "text/x-python",
   "name": "python",
   "nbconvert_exporter": "python",
   "pygments_lexer": "ipython3",
   "version": "3.12.3"
  }
 },
 "nbformat": 4,
 "nbformat_minor": 5
}
